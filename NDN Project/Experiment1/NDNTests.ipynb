{
 "cells": [
  {
   "cell_type": "code",
   "execution_count": 1,
   "id": "b6163531-16af-49fb-981f-af1a25e4fea5",
   "metadata": {},
   "outputs": [
    {
     "name": "stdout",
     "output_type": "stream",
     "text": [
      "-----------------------------------  ---------------------------------------------\n",
      "credmgr_host                         cm.fabric-testbed.net\n",
      "orchestrator_host                    orchestrator.fabric-testbed.net\n",
      "fabric_token                         /home/fabric/.tokens.json\n",
      "project_id                           6ce270de-788d-4e07-8bae-3206860a6387\n",
      "bastion_username                     dfulop_0000025834\n",
      "bastion_key_filename                 /home/fabric/work/fabric_config/bastion_key\n",
      "bastion_public_addr                  bastion-1.fabric-testbed.net\n",
      "bastion_passphrase                   None\n",
      "slice_public_key_file                /home/fabric/work/fabric_config/slice_key.pub\n",
      "slice_private_key_file               /home/fabric/work/fabric_config/slice_key\n",
      "fabric_slice_private_key_passphrase  None\n",
      "fablib_log_file                      /tmp/fablib/fablib.log\n",
      "fablib_log_level                     INFO\n",
      "-----------------------------------  ---------------------------------------------\n"
     ]
    }
   ],
   "source": [
    "#first run initial setup notebook\n",
    "#then on each machine install ndn\n",
    "#then run nfd-start\n",
    "#then use this notebook\n",
    "\n",
    "import json\n",
    "import traceback\n",
    "import os\n",
    "from fabrictestbed_extensions.fablib.fablib import FablibManager as fablib_manager\n",
    "\n",
    "fablib = fablib_manager()\n",
    "    \n",
    "fablib.show_config()\n"
   ]
  },
  {
   "cell_type": "code",
   "execution_count": 2,
   "id": "c3c9e7ea-a93f-45a2-9683-7aa8e830fb81",
   "metadata": {},
   "outputs": [
    {
     "name": "stdout",
     "output_type": "stream",
     "text": [
      "{'name': 'p', 'net': '192.168.0.0', 'ip': '192.168.0.2', 'router_ip': '192.168.0.1', 'node': <fabrictestbed_extensions.fablib.node.Node object at 0x7fb1c44200d0>, 'usr': 'ubuntu', 'man_ip': '131.94.57.23', 'if': 'ens7', 'router_if': <fabrictestbed_extensions.fablib.interface.Interface object at 0x7fb1c441bee0>, 'router_if_name': 'ens7', 'router': {'name': 'r1', 'node': <fabrictestbed_extensions.fablib.node.Node object at 0x7fb1c4419ca0>, 'ifs': [<fabrictestbed_extensions.fablib.interface.Interface object at 0x7fb1c441b460>, <fabrictestbed_extensions.fablib.interface.Interface object at 0x7fb1c441bee0>], 'man_ip': '131.94.57.62', 'usr': 'ubuntu'}}\n",
      "[{'name': 'c1', 'net': '192.168.1.0', 'ip': '192.168.1.2', 'router_ip': '192.168.1.1', 'node': <fabrictestbed_extensions.fablib.node.Node object at 0x7fb201c9a460>, 'man_ip': '131.94.57.32', 'if': 'ens7', 'usr': 'ubuntu', 'router': {'name': 'r1', 'node': <fabrictestbed_extensions.fablib.node.Node object at 0x7fb1c4419ca0>, 'ifs': [<fabrictestbed_extensions.fablib.interface.Interface object at 0x7fb1c441b460>, <fabrictestbed_extensions.fablib.interface.Interface object at 0x7fb1c441bee0>], 'man_ip': '131.94.57.62', 'usr': 'ubuntu'}, 'router_name': 'r1', 'router_if': <fabrictestbed_extensions.fablib.interface.Interface object at 0x7fb1c441b460>, 'router_if_name': 'ens8'}, {'name': 'c2', 'net': '192.168.1.0', 'ip': '192.168.1.3', 'router_ip': '192.168.1.1', 'node': <fabrictestbed_extensions.fablib.node.Node object at 0x7fb1c43efa00>, 'man_ip': '131.94.57.38', 'if': 'ens7', 'usr': 'ubuntu', 'router': {'name': 'r1', 'node': <fabrictestbed_extensions.fablib.node.Node object at 0x7fb1c4419ca0>, 'ifs': [<fabrictestbed_extensions.fablib.interface.Interface object at 0x7fb1c441b460>, <fabrictestbed_extensions.fablib.interface.Interface object at 0x7fb1c441bee0>], 'man_ip': '131.94.57.62', 'usr': 'ubuntu'}, 'router_name': 'r1', 'router_if': <fabrictestbed_extensions.fablib.interface.Interface object at 0x7fb1c441b460>, 'router_if_name': 'ens8'}, {'name': 'c3', 'net': '192.168.1.0', 'ip': '192.168.1.4', 'router_ip': '192.168.1.1', 'node': <fabrictestbed_extensions.fablib.node.Node object at 0x7fb1c43f6b20>, 'man_ip': '131.94.57.55', 'if': 'ens7', 'usr': 'ubuntu', 'router': {'name': 'r1', 'node': <fabrictestbed_extensions.fablib.node.Node object at 0x7fb1c4419ca0>, 'ifs': [<fabrictestbed_extensions.fablib.interface.Interface object at 0x7fb1c441b460>, <fabrictestbed_extensions.fablib.interface.Interface object at 0x7fb1c441bee0>], 'man_ip': '131.94.57.62', 'usr': 'ubuntu'}, 'router_name': 'r1', 'router_if': <fabrictestbed_extensions.fablib.interface.Interface object at 0x7fb1c441b460>, 'router_if_name': 'ens8'}, {'name': 'c4', 'net': '192.168.1.0', 'ip': '192.168.1.5', 'router_ip': '192.168.1.1', 'node': <fabrictestbed_extensions.fablib.node.Node object at 0x7fb1c43e8c10>, 'man_ip': '131.94.57.25', 'if': 'ens7', 'usr': 'ubuntu', 'router': {'name': 'r1', 'node': <fabrictestbed_extensions.fablib.node.Node object at 0x7fb1c4419ca0>, 'ifs': [<fabrictestbed_extensions.fablib.interface.Interface object at 0x7fb1c441b460>, <fabrictestbed_extensions.fablib.interface.Interface object at 0x7fb1c441bee0>], 'man_ip': '131.94.57.62', 'usr': 'ubuntu'}, 'router_name': 'r1', 'router_if': <fabrictestbed_extensions.fablib.interface.Interface object at 0x7fb1c441b460>, 'router_if_name': 'ens8'}, {'name': 'c5', 'net': '192.168.1.0', 'ip': '192.168.1.6', 'router_ip': '192.168.1.1', 'node': <fabrictestbed_extensions.fablib.node.Node object at 0x7fb1c43e08b0>, 'man_ip': '131.94.57.24', 'if': 'ens7', 'usr': 'ubuntu', 'router': {'name': 'r1', 'node': <fabrictestbed_extensions.fablib.node.Node object at 0x7fb1c4419ca0>, 'ifs': [<fabrictestbed_extensions.fablib.interface.Interface object at 0x7fb1c441b460>, <fabrictestbed_extensions.fablib.interface.Interface object at 0x7fb1c441bee0>], 'man_ip': '131.94.57.62', 'usr': 'ubuntu'}, 'router_name': 'r1', 'router_if': <fabrictestbed_extensions.fablib.interface.Interface object at 0x7fb1c441b460>, 'router_if_name': 'ens8'}]\n",
      "[{'name': 'r1', 'node': <fabrictestbed_extensions.fablib.node.Node object at 0x7fb1c4419ca0>, 'ifs': [<fabrictestbed_extensions.fablib.interface.Interface object at 0x7fb1c441b460>, <fabrictestbed_extensions.fablib.interface.Interface object at 0x7fb1c441bee0>], 'man_ip': '131.94.57.62', 'usr': 'ubuntu'}]\n"
     ]
    }
   ],
   "source": [
    "slice = fablib.get_slice(\"NDNSlice\")\n",
    "consumers = [\n",
    "    {'name':'c1', 'net':'192.168.1.0', 'ip':'192.168.1.2', 'router_ip':'192.168.1.1'},\n",
    "    {'name':'c2', 'net':'192.168.1.0', 'ip':'192.168.1.3', 'router_ip':'192.168.1.1'},\n",
    "    {'name':'c3', 'net':'192.168.1.0', 'ip':'192.168.1.4', 'router_ip':'192.168.1.1'},\n",
    "    {'name':'c4', 'net':'192.168.1.0', 'ip':'192.168.1.5', 'router_ip':'192.168.1.1'},\n",
    "    {'name':'c5', 'net':'192.168.1.0', 'ip':'192.168.1.6', 'router_ip':'192.168.1.1'}]\n",
    "routers = [\n",
    "        {'name':'r1'}\n",
    "]\n",
    "\n",
    "producer = {'name':'p', 'net':'192.168.0.0', 'ip':'192.168.0.2', 'router_ip':'192.168.0.1'}\n",
    "\n",
    "producer['node'] = slice.get_node(producer['name']);\n",
    "producer['usr'] = str(producer['node'].get_username())\n",
    "producer['man_ip'] = str(producer['node'].get_management_ip())\n",
    "producer['if'] = producer['node'].get_interfaces()[0].get_os_interface()\n",
    "\n",
    "for r in routers:\n",
    "    r['node'] = slice.get_node(r['name'])\n",
    "    r['ifs'] =r['node'].get_interfaces()\n",
    "    r['man_ip'] = str(r['node'].get_management_ip())\n",
    "    r['usr'] = str(r['node'].get_username())\n",
    "    for interface in r['ifs']:\n",
    "        if interface.get_name() == f\"{r['name']}-{r['name']}_p_nic-p1\":\n",
    "            producer['router_if'] = interface\n",
    "            producer['router_if_name'] = interface.get_os_interface()\n",
    "            producer['router'] = r\n",
    "\n",
    "    \n",
    "for c in consumers:\n",
    "    c['node'] = slice.get_node(c['name'])\n",
    "    c['man_ip'] = str(c['node'].get_management_ip())\n",
    "    c['if'] = str(c['node'].get_interfaces()[0].get_os_interface())\n",
    "    c['usr'] = str(c['node'].get_username())\n",
    "    c['router'] = routers[0]\n",
    "    c['router_name']=c['router']['name']\n",
    "    \n",
    "    for interface in c['router']['ifs']:\n",
    "        # print(interface.get_name())\n",
    "        if interface.get_name() == f\"{c['router_name']}-{c['router_name']}_{c['name']}_nic-p1\" or interface.get_name() == f\"{c['router_name']}-{c['router_name']}_c_nic-p1\":\n",
    "            c['router_if'] = interface \n",
    "            c['router_if_name'] = interface.get_os_interface()\n",
    "\n",
    "print(f'{producer}')\n",
    "print(f'{consumers}')\n",
    "print(f'{routers}')\n",
    "\n",
    "# print(client.execute(\"echo hello\"))\n",
    "# print(server.execute(\"echo hi\"))\n"
   ]
  },
  {
   "cell_type": "code",
   "execution_count": 3,
   "id": "3e9df489-c9db-4bb1-a016-ba5f667c3d23",
   "metadata": {},
   "outputs": [
    {
     "name": "stdout",
     "output_type": "stream",
     "text": [
      "ssh -F ~/work/fabric_config/ssh_config ubuntu@131.94.57.32\n",
      "ssh -F ~/work/fabric_config/ssh_config ubuntu@131.94.57.38\n",
      "ssh -F ~/work/fabric_config/ssh_config ubuntu@131.94.57.55\n",
      "ssh -F ~/work/fabric_config/ssh_config ubuntu@131.94.57.25\n",
      "ssh -F ~/work/fabric_config/ssh_config ubuntu@131.94.57.24\n",
      "ssh -F ~/work/fabric_config/ssh_config ubuntu@131.94.57.23\n",
      "ssh -F ~/work/fabric_config/ssh_config ubuntu@131.94.57.62\n"
     ]
    }
   ],
   "source": [
    "try:\n",
    "    for node in slice.get_nodes():\n",
    "        print(f\"ssh -F ~/work/fabric_config/ssh_config {node.get_username()}@{node.get_management_ip()}\")\n",
    "except Exception as e:\n",
    "    print(f\"Exception: {e}\")"
   ]
  },
  {
   "cell_type": "code",
   "execution_count": 4,
   "id": "1bbb4daf-d904-46a8-abca-4111d18573cb",
   "metadata": {},
   "outputs": [
    {
     "data": {
      "text/plain": [
       "('face-created id=277 local=udp4://192.168.0.1:6363 remote=udp4://192.168.0.2:6363 persistency=persistent reliability=off congestion-marking=on congestion-marking-interval=100ms default-congestion-threshold=65536B mtu=8800\\nroute-add-accepted prefix=/producer nexthop=277 origin=static cost=0 flags=child-inherit expires=never\\n',\n",
       " '')"
      ]
     },
     "execution_count": 4,
     "metadata": {},
     "output_type": "execute_result"
    }
   ],
   "source": [
    "router_node = routers[0]['node']\n",
    "for c in consumers:\n",
    "    node = c['node']\n",
    "    node.execute(f\"nfdc route add /producer udp://{c['router_ip']}\")\n",
    "    router_node.execute(f\"nfdc route add /consumer{c['name']} udp://{c['ip']}\")\n",
    "    producer['node'].execute(f\"nfdc route add /consumer{c['name']} udp://{c['ip']}\")\n",
    "\n",
    "router_node.execute(f\"nfdc route add /producer udp://{producer['ip']}\")\n",
    "\n"
   ]
  },
  {
   "cell_type": "code",
   "execution_count": 5,
   "id": "297d669f-b81d-47a1-8ed2-7582c02f9753",
   "metadata": {},
   "outputs": [
    {
     "name": "stdout",
     "output_type": "stream",
     "text": [
      "<Future at 0x7fb1c441d940 state=running>\n",
      "<Future at 0x7fb1c441dd60 state=running>\n",
      "<Future at 0x7fb1c43265b0 state=running>\n",
      "<Future at 0x7fb1c4336dc0 state=running>\n",
      "<Future at 0x7fb1c4346490 state=running>\n",
      "<Future at 0x7fb1c441dc10 state=running>\n"
     ]
    }
   ],
   "source": [
    "for c in consumers:\n",
    "    node = c['node']\n",
    "    tc = node.execute_thread(f'echo \"Hello. Consumer{c[\"name\"]} message.\" | ndnpoke /consumer{c[\"name\"]}/test/msg')\n",
    "    print(tc)\n",
    "ts = producer['node'].execute_thread(f'echo \"Hi. Producer message!\" | ndnpoke /producer/test/msg')\n",
    "print(ts)"
   ]
  },
  {
   "cell_type": "code",
   "execution_count": 6,
   "id": "c9b6ff53-440e-49aa-8b7c-bfe64b6e78dd",
   "metadata": {},
   "outputs": [
    {
     "name": "stdout",
     "output_type": "stream",
     "text": [
      "('Hello. Consumerc1 message.\\n', '')\n",
      "('Hello. Consumerc1 message.\\n', '')\n",
      "('Hello. Consumerc1 message.\\n', '')\n",
      "\n",
      "('Hello. Consumerc2 message.\\n', '')\n",
      "('Hello. Consumerc2 message.\\n', '')\n",
      "('Hello. Consumerc2 message.\\n', '')\n",
      "\n",
      "('Hello. Consumerc3 message.\\n', '')\n",
      "('Hello. Consumerc3 message.\\n', '')\n",
      "('Hello. Consumerc3 message.\\n', '')\n",
      "\n",
      "('Hello. Consumerc4 message.\\n', '')\n",
      "('Hello. Consumerc4 message.\\n', '')\n",
      "('Hello. Consumerc4 message.\\n', '')\n",
      "\n",
      "('Hello. Consumerc5 message.\\n', '')\n",
      "('Hello. Consumerc5 message.\\n', '')\n",
      "('Hello. Consumerc5 message.\\n', '')\n",
      "\n",
      "\n",
      "('Hi. Producer message!\\n', '')\n",
      "('Hi. Producer message!\\n', '')\n",
      "('Hi. Producer message!\\n', '')\n",
      "('Hi. Producer message!\\n', '')\n",
      "('Hi. Producer message!\\n', '')\n",
      "('Hi. Producer message!\\n', '')\n",
      "('Hi. Producer message!\\n', '')\n"
     ]
    }
   ],
   "source": [
    "router_node = routers[0]['node']\n",
    "\n",
    "for c in consumers:\n",
    "    print(c['node'].execute(f'ndnpeek -p /consumer{c[\"name\"]}/test/msg'))\n",
    "    print(router_node.execute(f'ndnpeek -p /consumer{c[\"name\"]}/test/msg'))\n",
    "    print(producer['node'].execute(f'ndnpeek -p /consumer{c[\"name\"]}/test/msg'))\n",
    "    print()\n",
    "\n",
    "print()\n",
    "\n",
    "print(producer['node'].execute(f'ndnpeek -p /producer/test/msg'))\n",
    "print(router_node.execute(f'ndnpeek -p /producer/test/msg'))\n",
    "for c in consumers:\n",
    "    print(c['node'].execute(f'ndnpeek -p /producer/test/msg'))\n"
   ]
  },
  {
   "cell_type": "code",
   "execution_count": 7,
   "id": "64b0e4e3-e85f-40a5-9f6f-18e95671cacc",
   "metadata": {},
   "outputs": [
    {
     "data": {
      "text/plain": [
       "<SFTPAttributes: [ size=342 uid=1000 gid=1000 mode=0o100664 atime=1670094313 mtime=1670094313 ]>"
      ]
     },
     "execution_count": 7,
     "metadata": {},
     "output_type": "execute_result"
    }
   ],
   "source": [
    "for c in consumers:\n",
    "    c['node'].upload_file(\"/home/fabric/work/NDNProject/consumer_test.py\", \"/home/ubuntu/consumer_test.py\")\n",
    "producer['node'].upload_file(\"/home/fabric/work/NDNProject/producer_test.py\", \"/home/ubuntu/producer_test.py\")"
   ]
  },
  {
   "cell_type": "code",
   "execution_count": 8,
   "id": "baab718f-60a2-4c9c-b9f4-51ef74a63888",
   "metadata": {},
   "outputs": [
    {
     "name": "stdout",
     "output_type": "stream",
     "text": [
      "(\"Received Data Name: /producer/test/msg2\\nMetaInfo(content_type=0, freshness_period=10000, final_block_id=None)\\nb'content'\\n\", '')\n",
      "(\"Received Data Name: /producer/test/msg2\\nMetaInfo(content_type=0, freshness_period=10000, final_block_id=None)\\nb'content'\\n\", '')\n",
      "(\"Received Data Name: /producer/test/msg2\\nMetaInfo(content_type=0, freshness_period=10000, final_block_id=None)\\nb'content'\\n\", '')\n",
      "(\"Received Data Name: /producer/test/msg2\\nMetaInfo(content_type=0, freshness_period=10000, final_block_id=None)\\nb'content'\\n\", '')\n",
      "(\"Received Data Name: /producer/test/msg2\\nMetaInfo(content_type=0, freshness_period=10000, final_block_id=None)\\nb'content'\\n\", '')\n",
      "(\"Received Data Name: /producer/test/msg2\\nMetaInfo(content_type=0, freshness_period=10000, final_block_id=None)\\nb'content'\\n\", '')\n",
      "(\"Received Data Name: /producer/test/msg2\\nMetaInfo(content_type=0, freshness_period=10000, final_block_id=None)\\nb'content'\\n\", '')\n",
      "(\"Received Data Name: /producer/test/msg2\\nMetaInfo(content_type=0, freshness_period=10000, final_block_id=None)\\nb'content'\\n\", '')\n",
      "(\"Received Data Name: /producer/test/msg2\\nMetaInfo(content_type=0, freshness_period=10000, final_block_id=None)\\nb'content'\\n\", '')\n",
      "(\"Received Data Name: /producer/test/msg2\\nMetaInfo(content_type=0, freshness_period=10000, final_block_id=None)\\nb'content'\\n\", '')\n"
     ]
    }
   ],
   "source": [
    "import time\n",
    "producer['node'].execute_thread(\"python3 producer_test.py\")\n",
    "time.sleep(2)\n",
    "for c in consumers:\n",
    "    print(c['node'].execute(\"python3 consumer_test.py /producer/test/msg2\"))\n",
    "    print(c['node'].execute(\"python3 consumer_test.py /producer/test/msg2 -f\"))"
   ]
  },
  {
   "cell_type": "code",
   "execution_count": null,
   "id": "41395c0f-d032-476c-a036-61482535aec6",
   "metadata": {},
   "outputs": [],
   "source": []
  },
  {
   "cell_type": "code",
   "execution_count": 3,
   "id": "e889648e-189a-4b4c-9da5-6ba3f1600e8c",
   "metadata": {},
   "outputs": [],
   "source": [
    "try:\n",
    "    slice.delete()\n",
    "except Exception as e:\n",
    "    print(f\"Exception: {e}\")"
   ]
  },
  {
   "cell_type": "code",
   "execution_count": null,
   "id": "84815747-1e67-460a-9f74-8fe29b263698",
   "metadata": {},
   "outputs": [],
   "source": []
  }
 ],
 "metadata": {
  "kernelspec": {
   "display_name": "Python 3 (ipykernel)",
   "language": "python",
   "name": "python3"
  },
  "language_info": {
   "codemirror_mode": {
    "name": "ipython",
    "version": 3
   },
   "file_extension": ".py",
   "mimetype": "text/x-python",
   "name": "python",
   "nbconvert_exporter": "python",
   "pygments_lexer": "ipython3",
   "version": "3.9.7"
  }
 },
 "nbformat": 4,
 "nbformat_minor": 5
}
