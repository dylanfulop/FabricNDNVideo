{
 "cells": [
  {
   "cell_type": "code",
   "execution_count": 1,
   "id": "20b56a29-048f-47ef-a258-9dccd155c72b",
   "metadata": {},
   "outputs": [
    {
     "name": "stdout",
     "output_type": "stream",
     "text": [
      "-----------------------------------  ---------------------------------------------\n",
      "credmgr_host                         cm.fabric-testbed.net\n",
      "orchestrator_host                    orchestrator.fabric-testbed.net\n",
      "fabric_token                         /home/fabric/.tokens.json\n",
      "project_id                           6ce270de-788d-4e07-8bae-3206860a6387\n",
      "bastion_username                     dfulop_0000025834\n",
      "bastion_key_filename                 /home/fabric/work/fabric_config/bastion_key\n",
      "bastion_public_addr                  bastion-1.fabric-testbed.net\n",
      "bastion_passphrase                   None\n",
      "slice_public_key_file                /home/fabric/work/fabric_config/slice_key.pub\n",
      "slice_private_key_file               /home/fabric/work/fabric_config/slice_key\n",
      "fabric_slice_private_key_passphrase  None\n",
      "fablib_log_file                      /tmp/fablib/fablib.log\n",
      "fablib_log_level                     INFO\n",
      "-----------------------------------  ---------------------------------------------\n"
     ]
    }
   ],
   "source": [
    "#first run initial setup notebook\n",
    "#then on each machine install ndn\n",
    "#then run nfd-start\n",
    "#then use this notebook\n",
    "\n",
    "import json\n",
    "import traceback\n",
    "import os\n",
    "from fabrictestbed_extensions.fablib.fablib import FablibManager as fablib_manager\n",
    "\n",
    "fablib = fablib_manager()\n",
    "    \n",
    "fablib.show_config()\n"
   ]
  },
  {
   "cell_type": "code",
   "execution_count": 2,
   "id": "fe59e7ec-4801-429a-8fdb-b7edf0dd82c1",
   "metadata": {},
   "outputs": [
    {
     "name": "stdout",
     "output_type": "stream",
     "text": [
      "{'name': 'p', 'net': '192.168.0.0', 'ip': '192.168.0.2', 'router_ip': '192.168.0.1', 'node': <fabrictestbed_extensions.fablib.node.Node object at 0x7f2eafbdd0d0>, 'usr': 'ubuntu', 'man_ip': '131.94.57.23', 'if': 'ens7', 'router_if': <fabrictestbed_extensions.fablib.interface.Interface object at 0x7f2ea86083a0>, 'router_if_name': 'ens7', 'router': {'name': 'r1', 'node': <fabrictestbed_extensions.fablib.node.Node object at 0x7f2eac6f48e0>, 'ifs': [<fabrictestbed_extensions.fablib.interface.Interface object at 0x7f2ea860adc0>, <fabrictestbed_extensions.fablib.interface.Interface object at 0x7f2ea86083a0>], 'man_ip': '131.94.57.62', 'usr': 'ubuntu'}}\n",
      "[{'name': 'c1', 'net': '192.168.1.0', 'ip': '192.168.1.2', 'router_ip': '192.168.1.1', 'node': <fabrictestbed_extensions.fablib.node.Node object at 0x7f2ea86070a0>, 'man_ip': '131.94.57.32', 'if': 'ens7', 'usr': 'ubuntu', 'router': {'name': 'r1', 'node': <fabrictestbed_extensions.fablib.node.Node object at 0x7f2eac6f48e0>, 'ifs': [<fabrictestbed_extensions.fablib.interface.Interface object at 0x7f2ea860adc0>, <fabrictestbed_extensions.fablib.interface.Interface object at 0x7f2ea86083a0>], 'man_ip': '131.94.57.62', 'usr': 'ubuntu'}, 'router_name': 'r1', 'router_if': <fabrictestbed_extensions.fablib.interface.Interface object at 0x7f2ea860adc0>, 'router_if_name': 'ens8'}, {'name': 'c2', 'net': '192.168.1.0', 'ip': '192.168.1.3', 'router_ip': '192.168.1.1', 'node': <fabrictestbed_extensions.fablib.node.Node object at 0x7f2ea85cd760>, 'man_ip': '131.94.57.38', 'if': 'ens7', 'usr': 'ubuntu', 'router': {'name': 'r1', 'node': <fabrictestbed_extensions.fablib.node.Node object at 0x7f2eac6f48e0>, 'ifs': [<fabrictestbed_extensions.fablib.interface.Interface object at 0x7f2ea860adc0>, <fabrictestbed_extensions.fablib.interface.Interface object at 0x7f2ea86083a0>], 'man_ip': '131.94.57.62', 'usr': 'ubuntu'}, 'router_name': 'r1', 'router_if': <fabrictestbed_extensions.fablib.interface.Interface object at 0x7f2ea860adc0>, 'router_if_name': 'ens8'}, {'name': 'c3', 'net': '192.168.1.0', 'ip': '192.168.1.4', 'router_ip': '192.168.1.1', 'node': <fabrictestbed_extensions.fablib.node.Node object at 0x7f2ea85d32b0>, 'man_ip': '131.94.57.55', 'if': 'ens7', 'usr': 'ubuntu', 'router': {'name': 'r1', 'node': <fabrictestbed_extensions.fablib.node.Node object at 0x7f2eac6f48e0>, 'ifs': [<fabrictestbed_extensions.fablib.interface.Interface object at 0x7f2ea860adc0>, <fabrictestbed_extensions.fablib.interface.Interface object at 0x7f2ea86083a0>], 'man_ip': '131.94.57.62', 'usr': 'ubuntu'}, 'router_name': 'r1', 'router_if': <fabrictestbed_extensions.fablib.interface.Interface object at 0x7f2ea860adc0>, 'router_if_name': 'ens8'}, {'name': 'c4', 'net': '192.168.1.0', 'ip': '192.168.1.5', 'router_ip': '192.168.1.1', 'node': <fabrictestbed_extensions.fablib.node.Node object at 0x7f2ea85c4dc0>, 'man_ip': '131.94.57.25', 'if': 'ens7', 'usr': 'ubuntu', 'router': {'name': 'r1', 'node': <fabrictestbed_extensions.fablib.node.Node object at 0x7f2eac6f48e0>, 'ifs': [<fabrictestbed_extensions.fablib.interface.Interface object at 0x7f2ea860adc0>, <fabrictestbed_extensions.fablib.interface.Interface object at 0x7f2ea86083a0>], 'man_ip': '131.94.57.62', 'usr': 'ubuntu'}, 'router_name': 'r1', 'router_if': <fabrictestbed_extensions.fablib.interface.Interface object at 0x7f2ea860adc0>, 'router_if_name': 'ens8'}, {'name': 'c5', 'net': '192.168.1.0', 'ip': '192.168.1.6', 'router_ip': '192.168.1.1', 'node': <fabrictestbed_extensions.fablib.node.Node object at 0x7f2ea85bf970>, 'man_ip': '131.94.57.24', 'if': 'ens7', 'usr': 'ubuntu', 'router': {'name': 'r1', 'node': <fabrictestbed_extensions.fablib.node.Node object at 0x7f2eac6f48e0>, 'ifs': [<fabrictestbed_extensions.fablib.interface.Interface object at 0x7f2ea860adc0>, <fabrictestbed_extensions.fablib.interface.Interface object at 0x7f2ea86083a0>], 'man_ip': '131.94.57.62', 'usr': 'ubuntu'}, 'router_name': 'r1', 'router_if': <fabrictestbed_extensions.fablib.interface.Interface object at 0x7f2ea860adc0>, 'router_if_name': 'ens8'}]\n",
      "[{'name': 'r1', 'node': <fabrictestbed_extensions.fablib.node.Node object at 0x7f2eac6f48e0>, 'ifs': [<fabrictestbed_extensions.fablib.interface.Interface object at 0x7f2ea860adc0>, <fabrictestbed_extensions.fablib.interface.Interface object at 0x7f2ea86083a0>], 'man_ip': '131.94.57.62', 'usr': 'ubuntu'}]\n"
     ]
    }
   ],
   "source": [
    "slice = fablib.get_slice(\"NDNSlice\")\n",
    "consumers = [\n",
    "    {'name':'c1', 'net':'192.168.1.0', 'ip':'192.168.1.2', 'router_ip':'192.168.1.1'},\n",
    "    {'name':'c2', 'net':'192.168.1.0', 'ip':'192.168.1.3', 'router_ip':'192.168.1.1'},\n",
    "    {'name':'c3', 'net':'192.168.1.0', 'ip':'192.168.1.4', 'router_ip':'192.168.1.1'},\n",
    "    {'name':'c4', 'net':'192.168.1.0', 'ip':'192.168.1.5', 'router_ip':'192.168.1.1'},\n",
    "    {'name':'c5', 'net':'192.168.1.0', 'ip':'192.168.1.6', 'router_ip':'192.168.1.1'}]\n",
    "routers = [\n",
    "        {'name':'r1'}\n",
    "]\n",
    "\n",
    "producer = {'name':'p', 'net':'192.168.0.0', 'ip':'192.168.0.2', 'router_ip':'192.168.0.1'}\n",
    "\n",
    "producer['node'] = slice.get_node(producer['name']);\n",
    "producer['usr'] = str(producer['node'].get_username())\n",
    "producer['man_ip'] = str(producer['node'].get_management_ip())\n",
    "producer['if'] = producer['node'].get_interfaces()[0].get_os_interface()\n",
    "\n",
    "for r in routers:\n",
    "    r['node'] = slice.get_node(r['name'])\n",
    "    r['ifs'] =r['node'].get_interfaces()\n",
    "    r['man_ip'] = str(r['node'].get_management_ip())\n",
    "    r['usr'] = str(r['node'].get_username())\n",
    "    for interface in r['ifs']:\n",
    "        if interface.get_name() == f\"{r['name']}-{r['name']}_p_nic-p1\":\n",
    "            producer['router_if'] = interface\n",
    "            producer['router_if_name'] = interface.get_os_interface()\n",
    "            producer['router'] = r\n",
    "\n",
    "    \n",
    "for c in consumers:\n",
    "    c['node'] = slice.get_node(c['name'])\n",
    "    c['man_ip'] = str(c['node'].get_management_ip())\n",
    "    c['if'] = str(c['node'].get_interfaces()[0].get_os_interface())\n",
    "    c['usr'] = str(c['node'].get_username())\n",
    "    c['router'] = routers[0]\n",
    "    c['router_name']=c['router']['name']\n",
    "    \n",
    "    for interface in c['router']['ifs']:\n",
    "        # print(interface.get_name())\n",
    "        if interface.get_name() == f\"{c['router_name']}-{c['router_name']}_{c['name']}_nic-p1\" or interface.get_name() == f\"{c['router_name']}-{c['router_name']}_c_nic-p1\":\n",
    "            c['router_if'] = interface \n",
    "            c['router_if_name'] = interface.get_os_interface()\n",
    "\n",
    "print(f'{producer}')\n",
    "print(f'{consumers}')\n",
    "print(f'{routers}')\n",
    "\n",
    "# print(client.execute(\"echo hello\"))\n",
    "# print(server.execute(\"echo hi\"))\n"
   ]
  },
  {
   "cell_type": "code",
   "execution_count": 3,
   "id": "b4ae4fb9-bd73-41db-b09a-a245b5554b7a",
   "metadata": {},
   "outputs": [],
   "source": [
    "producer['node'].upload_file(\"/home/fabric/work/NDNProject/video_producer.py\", \"/home/ubuntu/video_producer.py\")\n",
    "for c in consumers:\n",
    "    c['node'].upload_file(\"/home/fabric/work/NDNProject/video_consumer.py\", \"/home/ubuntu/video_consumer.py\")"
   ]
  },
  {
   "cell_type": "code",
   "execution_count": 4,
   "id": "62b0bec4-26ec-45ea-8a31-159fa8d7ab56",
   "metadata": {},
   "outputs": [
    {
     "data": {
      "text/plain": [
       "<Future at 0x7f2ea85cf3a0 state=running>"
      ]
     },
     "execution_count": 4,
     "metadata": {},
     "output_type": "execute_result"
    }
   ],
   "source": [
    "#start producer applicatio\n",
    "producer['node'].execute_thread(f\"sudo python3 video_producer.py\")"
   ]
  },
  {
   "cell_type": "markdown",
   "id": "5c9c0670-5043-4c81-8947-717ce7fdc7e7",
   "metadata": {},
   "source": [
    "SET EXPERIMENT VARIABLES"
   ]
  },
  {
   "cell_type": "code",
   "execution_count": 72,
   "id": "b5f5f3d1-38b0-4d73-973f-8e82f0c00f60",
   "metadata": {},
   "outputs": [],
   "source": [
    "from time import sleep\n",
    "\n",
    "router_latency = 100 #10 50 100 ... 1?\n",
    "num_consumers = 2 #1,2,3,4,5\n",
    "run_number = 1"
   ]
  },
  {
   "cell_type": "code",
   "execution_count": 73,
   "id": "92a1d990-0700-47e5-85e3-64f235679eee",
   "metadata": {
    "tags": []
   },
   "outputs": [
    {
     "name": "stdout",
     "output_type": "stream",
     "text": [
      "('', '')\n",
      "('', '')\n"
     ]
    }
   ],
   "source": [
    "res = routers[0]['node'].execute(f\"sudo tc qdisc del dev {producer['router_if_name']} root tbf rate {router_latency}kbit latency 50ms burst 1540\")\n",
    "print(res)\n",
    "res = routers[0]['node'].execute(f\"sudo tc qdisc add dev {producer['router_if_name']} root tbf rate {router_latency}kbit latency 50ms burst 1540\")\n",
    "print(res)\n",
    "for i in range(num_consumers):\n",
    "    c = consumers[i]\n",
    "    node = c['node']\n",
    "    c['future'] = node.execute_thread(f\"sudo python3 video_consumer.py -l /home/ubuntu/ndnlogs/exp1_node{i}_latency{router_latency}_{num_consumers}consumers_{run_number}.csv\")\n",
    "    sleep(10)\n",
    "# sleep(500)\n"
   ]
  },
  {
   "cell_type": "code",
   "execution_count": 74,
   "id": "b4e292c1-bfc5-47dd-b40a-6e3ca80e9b8f",
   "metadata": {
    "tags": []
   },
   "outputs": [
    {
     "name": "stdout",
     "output_type": "stream",
     "text": [
      "('20|120|4\\n120|4\\n4\\n20 120 4\\nretrieved segment 0 at bitrate 19\\n0.0015571117401123047s | 0s played | 0 segments played | 0/120 buffered | seg 0 | rate 19 | 0.001552581787109375s latency | 0 buffers | 0s spent buffering \\n120 segments left\\nretrieved segment 1 at bitrate 18\\n10.956703901290894s | 0s played | 0 segments played | 1/119 buffered | seg 1 | rate 18 | 10.955112218856812s latency | 0 buffers | 0s spent buffering \\n119 segments left\\nretrieved segment 2 at bitrate 14\\n22.54967951774597s | 0s played | 0 segments played | 2/118 buffered | seg 2 | rate 14 | 11.592944383621216s latency | 1 buffers | 22.549681425094604s spent buffering \\n118 segments left\\nretrieved segment 3 at bitrate 10\\n22.581453561782837s | 0.031771183013916016s played | 1 segments played | 2/117 buffered | seg 3 | rate 10 | 0.031751155853271484s latency | 1 buffers | 22.549681425094604s spent buffering \\n117 segments left\\nretrieved segment 4 at bitrate 10\\n26.843313217163086s | 4.293630361557007s played | 2 segments played | 2/116 buffered | seg 4 | rate 10 | 4.261829376220703s latency | 1 buffers | 22.549681425094604s spent buffering \\n116 segments left\\nretrieved segment 5 at bitrate 9\\n26.862051486968994s | 4.312369108200073s played | 2 segments played | 3/115 buffered | seg 5 | rate 9 | 0.018697738647460938s latency | 1 buffers | 22.549681425094604s spent buffering \\n115 segments left\\nretrieved segment 6 at bitrate 9\\n26.876986265182495s | 4.327303886413574s played | 2 segments played | 4/114 buffered | seg 6 | rate 9 | 0.014912605285644531s latency | 1 buffers | 22.549681425094604s spent buffering \\n114 segments left\\nretrieved segment 7 at bitrate 10\\n26.909533977508545s | 4.359851360321045s played | 2 segments played | 5/113 buffered | seg 7 | rate 10 | 0.03252816200256348s latency | 1 buffers | 22.549681425094604s spent buffering \\n113 segments left\\nretrieved segment 8 at bitrate 11\\n26.953908920288086s | 4.404226541519165s played | 2 segments played | 6/112 buffered | seg 8 | rate 11 | 0.04435539245605469s latency | 1 buffers | 22.549681425094604s spent buffering \\n112 segments left\\nretrieved segment 9 at bitrate 12\\n33.27722382545471s | 10.727541208267212s played | 3 segments played | 6/111 buffered | seg 9 | rate 12 | 6.323284149169922s latency | 1 buffers | 22.549681425094604s spent buffering \\n111 segments left\\nretrieved segment 10 at bitrate 11\\n33.31994557380676s | 10.770263195037842s played | 3 segments played | 7/110 buffered | seg 10 | rate 11 | 0.042693376541137695s latency | 1 buffers | 22.549681425094604s spent buffering \\n110 segments left\\nretrieved segment 11 at bitrate 12\\n40.48303556442261s | 17.933352947235107s played | 5 segments played | 6/109 buffered | seg 11 | rate 12 | 7.163067817687988s latency | 1 buffers | 22.549681425094604s spent buffering \\n109 segments left\\nretrieved segment 12 at bitrate 11\\n46.277360916137695s | 23.727678060531616s played | 6 segments played | 6/108 buffered | seg 12 | rate 11 | 5.794298887252808s latency | 1 buffers | 22.549681425094604s spent buffering \\n108 segments left\\nretrieved segment 13 at bitrate 10\\n46.309487104415894s | 23.759804487228394s played | 6 segments played | 7/107 buffered | seg 13 | rate 10 | 0.03208422660827637s latency | 1 buffers | 22.549681425094604s spent buffering \\n107 segments left\\nretrieved segment 14 at bitrate 11\\n52.18331551551819s | 29.63363265991211s played | 8 segments played | 6/106 buffered | seg 14 | rate 11 | 5.873807191848755s latency | 1 buffers | 22.549681425094604s spent buffering \\n106 segments left\\nretrieved segment 15 at bitrate 10\\n52.206231355667114s | 29.656548976898193s played | 8 segments played | 7/105 buffered | seg 15 | rate 10 | 0.02289295196533203s latency | 1 buffers | 22.549681425094604s spent buffering \\n105 segments left\\nretrieved segment 16 at bitrate 11\\n52.23838424682617s | 29.68870186805725s played | 8 segments played | 8/104 buffered | seg 16 | rate 11 | 0.03213334083557129s latency | 1 buffers | 22.549681425094604s spent buffering \\n104 segments left\\nretrieved segment 17 at bitrate 12\\n59.03084754943848s | 36.4811646938324s played | 10 segments played | 7/103 buffered | seg 17 | rate 12 | 6.792439937591553s latency | 1 buffers | 22.549681425094604s spent buffering \\n103 segments left\\nretrieved segment 18 at bitrate 11\\n59.064032316207886s | 36.51434946060181s played | 10 segments played | 8/102 buffered | seg 18 | rate 11 | 0.0331571102142334s latency | 1 buffers | 22.549681425094604s spent buffering \\n102 segments left\\nretrieved segment 19 at bitrate 12\\n59.10751271247864s | 36.55783009529114s played | 10 segments played | 9/101 buffered | seg 19 | rate 12 | 0.04345989227294922s latency | 1 buffers | 22.549681425094604s spent buffering \\n101 segments left\\nretrieved segment 20 at bitrate 13\\n69.03531432151794s | 46.485631704330444s played | 12 segments played | 8/100 buffered | seg 20 | rate 13 | 9.927779197692871s latency | 1 buffers | 22.549681425094604s spent buffering \\n100 segments left\\nretrieved segment 21 at bitrate 12\\n69.08584713935852s | 46.5361647605896s played | 12 segments played | 9/99 buffered | seg 21 | rate 12 | 0.05050945281982422s latency | 1 buffers | 22.549681425094604s spent buffering \\n99 segments left\\nretrieved segment 22 at bitrate 13\\n72.47719287872314s | 49.927510499954224s played | 13 segments played | 9/98 buffered | seg 22 | rate 13 | 3.391324281692505s latency | 1 buffers | 22.549681425094604s spent buffering \\n98 segments left\\nretrieved segment 23 at bitrate 14\\n79.91785383224487s | 57.36817121505737s played | 15 segments played | 8/97 buffered | seg 23 | rate 14 | 7.440638303756714s latency | 1 buffers | 22.549681425094604s spent buffering \\n97 segments left\\nretrieved segment 24 at bitrate 13\\n82.88977122306824s | 60.34008860588074s played | 16 segments played | 8/96 buffered | seg 24 | rate 13 | 2.971895217895508s latency | 1 buffers | 22.549681425094604s spent buffering \\n96 segments left\\nretrieved segment 25 at bitrate 14\\n89.03147459030151s | 66.48179197311401s played | 17 segments played | 8/95 buffered | seg 25 | rate 14 | 6.141682147979736s latency | 1 buffers | 22.549681425094604s spent buffering \\n95 segments left\\nretrieved segment 26 at bitrate 13\\n89.07151079177856s | 66.52182817459106s played | 17 segments played | 9/94 buffered | seg 26 | rate 13 | 0.040015220642089844s latency | 1 buffers | 22.549681425094604s spent buffering \\n94 segments left\\nretrieved segment 27 at bitrate 14\\n89.13957047462463s | 66.58988785743713s played | 17 segments played | 10/93 buffered | seg 27 | rate 14 | 0.0680384635925293s latency | 1 buffers | 22.549681425094604s spent buffering \\n93 segments left\\nretrieved segment 28 at bitrate 15\\n89.20424056053162s | 66.6545581817627s played | 17 segments played | 11/92 buffered | seg 28 | rate 15 | 0.0646355152130127s latency | 1 buffers | 22.549681425094604s spent buffering \\n92 segments left\\nretrieved segment 29 at bitrate 14\\n89.58348059654236s | 67.03379774093628s played | 17 segments played | 12/91 buffered | seg 29 | rate 14 | 0.08330821990966797s latency | 1 buffers | 22.549681425094604s spent buffering \\n91 segments left\\nretrieved segment 30 at bitrate 14\\n100.74652624130249s | 78.19684338569641s played | 20 segments played | 10/90 buffered | seg 30 | rate 14 | 11.012042999267578s latency | 1 buffers | 22.549681425094604s spent buffering \\n90 segments left\\nretrieved segment 31 at bitrate 10\\n100.77710890769958s | 78.22742652893066s played | 20 segments played | 11/89 buffered | seg 31 | rate 10 | 0.030555248260498047s latency | 1 buffers | 22.549681425094604s spent buffering \\n89 segments left\\nretrieved segment 32 at bitrate 11\\n100.8133282661438s | 78.26364588737488s played | 20 segments played | 12/88 buffered | seg 32 | rate 11 | 0.03619885444641113s latency | 1 buffers | 22.549681425094604s spent buffering \\n88 segments left\\nretrieved segment 33 at bitrate 12\\n100.86119794845581s | 78.31151580810547s played | 20 segments played | 13/87 buffered | seg 33 | rate 12 | 0.04784989356994629s latency | 1 buffers | 22.549681425094604s spent buffering \\n87 segments left\\nretrieved segment 34 at bitrate 13\\n108.92911124229431s | 86.37942862510681s played | 22 segments played | 12/86 buffered | seg 34 | rate 13 | 8.067891836166382s latency | 1 buffers | 22.549681425094604s spent buffering \\n86 segments left\\nretrieved segment 35 at bitrate 12\\n108.98294758796692s | 86.43326473236084s played | 22 segments played | 13/85 buffered | seg 35 | rate 12 | 0.0537714958190918s latency | 1 buffers | 22.549681425094604s spent buffering \\n85 segments left\\nretrieved segment 36 at bitrate 13\\n117.86995649337769s | 95.32027411460876s played | 24 segments played | 12/84 buffered | seg 36 | rate 13 | 8.886985301971436s latency | 1 buffers | 22.549681425094604s spent buffering \\n84 segments left\\nretrieved segment 37 at bitrate 12\\n117.9118709564209s | 95.36218857765198s played | 24 segments played | 13/83 buffered | seg 37 | rate 12 | 0.041890621185302734s latency | 1 buffers | 22.549681425094604s spent buffering \\n83 segments left\\nretrieved segment 38 at bitrate 13\\n124.76184678077698s | 102.2121639251709s played | 26 segments played | 12/82 buffered | seg 38 | rate 13 | 6.849937200546265s latency | 1 buffers | 22.549681425094604s spent buffering \\n82 segments left\\nretrieved segment 39 at bitrate 12\\n124.8088526725769s | 102.25917029380798s played | 26 segments played | 13/81 buffered | seg 39 | rate 12 | 0.04698061943054199s latency | 1 buffers | 22.549681425094604s spent buffering \\n81 segments left\\nretrieved segment 40 at bitrate 13\\n124.83707618713379s | 102.28739356994629s played | 26 segments played | 14/80 buffered | seg 40 | rate 13 | 0.028203964233398438s latency | 1 buffers | 22.549681425094604s spent buffering \\n80 segments left\\nretrieved segment 41 at bitrate 14\\n133.52281188964844s | 110.97312903404236s played | 28 segments played | 13/79 buffered | seg 41 | rate 14 | 8.685697555541992s latency | 1 buffers | 22.549681425094604s spent buffering \\n79 segments left\\nretrieved segment 42 at bitrate 13\\n133.5650246143341s | 111.01534223556519s played | 28 segments played | 14/78 buffered | seg 42 | rate 13 | 0.04218769073486328s latency | 1 buffers | 22.549681425094604s spent buffering \\n78 segments left\\nretrieved segment 43 at bitrate 14\\n141.83031368255615s | 119.28063106536865s played | 30 segments played | 13/77 buffered | seg 43 | rate 14 | 8.265259265899658s latency | 1 buffers | 22.549681425094604s spent buffering \\n77 segments left\\nretrieved segment 44 at bitrate 13\\n146.13503861427307s | 123.58535599708557s played | 31 segments played | 13/76 buffered | seg 44 | rate 13 | 4.304701805114746s latency | 1 buffers | 22.549681425094604s spent buffering \\n76 segments left\\nretrieved segment 45 at bitrate 14\\n146.21822834014893s | 123.66854596138s played | 31 segments played | 14/75 buffered | seg 45 | rate 14 | 0.08316707611083984s latency | 1 buffers | 22.549681425094604s spent buffering \\n75 segments left\\nretrieved segment 46 at bitrate 14\\n154.82555556297302s | 132.27587294578552s played | 34 segments played | 12/74 buffered | seg 46 | rate 14 | 8.458282947540283s latency | 1 buffers | 22.549681425094604s spent buffering \\n74 segments left\\nretrieved segment 47 at bitrate 13\\n163.84614181518555s | 141.29645919799805s played | 36 segments played | 11/73 buffered | seg 47 | rate 13 | 9.020553827285767s latency | 1 buffers | 22.549681425094604s spent buffering \\n73 segments left\\nretrieved segment 48 at bitrate 12\\n163.87540364265442s | 141.3257212638855s played | 36 segments played | 12/72 buffered | seg 48 | rate 12 | 0.029236316680908203s latency | 1 buffers | 22.549681425094604s spent buffering \\n72 segments left\\nretrieved segment 49 at bitrate 13\\n163.94011878967285s | 141.39043617248535s played | 36 segments played | 13/71 buffered | seg 49 | rate 13 | 0.06469488143920898s latency | 1 buffers | 22.549681425094604s spent buffering \\n71 segments left\\nretrieved segment 50 at bitrate 14\\n164.00091004371643s | 141.4512276649475s played | 36 segments played | 14/70 buffered | seg 50 | rate 14 | 0.06077218055725098s latency | 1 buffers | 22.549681425094604s spent buffering \\n70 segments left\\nretrieved segment 51 at bitrate 15\\n174.08738827705383s | 151.53770565986633s played | 38 segments played | 13/69 buffered | seg 51 | rate 15 | 10.086455345153809s latency | 1 buffers | 22.549681425094604s spent buffering \\n69 segments left\\nretrieved segment 52 at bitrate 11\\n174.12227845191956s | 151.57259607315063s played | 38 segments played | 14/68 buffered | seg 52 | rate 11 | 0.03485751152038574s latency | 1 buffers | 22.549681425094604s spent buffering \\n68 segments left\\nretrieved segment 53 at bitrate 12\\n174.17531085014343s | 151.62562823295593s played | 38 segments played | 15/67 buffered | seg 53 | rate 12 | 0.05301213264465332s latency | 1 buffers | 22.549681425094604s spent buffering \\n67 segments left\\nretrieved segment 54 at bitrate 13\\n182.15712904930115s | 159.60744643211365s played | 40 segments played | 14/66 buffered | seg 54 | rate 13 | 7.981796026229858s latency | 1 buffers | 22.549681425094604s spent buffering \\n66 segments left\\nretrieved segment 55 at bitrate 12\\n182.20560932159424s | 159.6559271812439s played | 40 segments played | 15/65 buffered | seg 55 | rate 12 | 0.04845404624938965s latency | 1 buffers | 22.549681425094604s spent buffering \\n65 segments left\\nretrieved segment 56 at bitrate 13\\n186.4612066745758s | 163.9115240573883s played | 41 segments played | 15/64 buffered | seg 56 | rate 13 | 4.2555766105651855s latency | 1 buffers | 22.549681425094604s spent buffering \\n64 segments left\\nretrieved segment 57 at bitrate 14\\n195.24512791633606s | 172.69544553756714s played | 44 segments played | 13/63 buffered | seg 57 | rate 14 | 8.783899545669556s latency | 1 buffers | 22.549681425094604s spent buffering \\n63 segments left\\nretrieved segment 58 at bitrate 13\\n195.29054760932922s | 172.7408652305603s played | 44 segments played | 14/62 buffered | seg 58 | rate 13 | 0.0453951358795166s latency | 1 buffers | 22.549681425094604s spent buffering \\n62 segments left\\nretrieved segment 59 at bitrate 14\\n204.85239386558533s | 182.3027114868164s played | 46 segments played | 13/61 buffered | seg 59 | rate 14 | 9.561823844909668s latency | 1 buffers | 22.549681425094604s spent buffering \\n61 segments left\\nretrieved segment 60 at bitrate 13\\n209.7059783935547s | 187.1562955379486s played | 47 segments played | 13/60 buffered | seg 60 | rate 13 | 4.853557586669922s latency | 1 buffers | 22.549681425094604s spent buffering \\n60 segments left\\nretrieved segment 61 at bitrate 12\\n209.75112080574036s | 187.20143842697144s played | 47 segments played | 14/59 buffered | seg 61 | rate 12 | 0.0451200008392334s latency | 1 buffers | 22.549681425094604s spent buffering \\n59 segments left\\nretrieved segment 62 at bitrate 13\\n218.83864426612854s | 196.28896164894104s played | 50 segments played | 12/58 buffered | seg 62 | rate 13 | 9.087502002716064s latency | 1 buffers | 22.549681425094604s spent buffering \\n58 segments left\\nretrieved segment 63 at bitrate 12\\n218.8847143650055s | 196.33503198623657s played | 50 segments played | 13/57 buffered | seg 63 | rate 12 | 0.04604506492614746s latency | 1 buffers | 22.549681425094604s spent buffering \\n57 segments left\\nretrieved segment 64 at bitrate 13\\n218.9429543018341s | 196.39327144622803s played | 50 segments played | 14/56 buffered | seg 64 | rate 13 | 0.058217525482177734s latency | 1 buffers | 22.549681425094604s spent buffering \\n56 segments left\\nretrieved segment 65 at bitrate 14\\n228.25473284721375s | 205.70505023002625s played | 52 segments played | 13/55 buffered | seg 65 | rate 14 | 9.311749458312988s latency | 1 buffers | 22.549681425094604s spent buffering \\n55 segments left\\nretrieved segment 66 at bitrate 13\\n228.3004059791565s | 205.75072360038757s played | 52 segments played | 14/54 buffered | seg 66 | rate 13 | 0.04564857482910156s latency | 1 buffers | 22.549681425094604s spent buffering \\n54 segments left\\nretrieved segment 67 at bitrate 14\\n228.37505435943604s | 205.82537174224854s played | 52 segments played | 15/53 buffered | seg 67 | rate 14 | 0.07462644577026367s latency | 1 buffers | 22.549681425094604s spent buffering \\n53 segments left\\nretrieved segment 68 at bitrate 14\\n228.57527542114258s | 206.02559304237366s played | 52 segments played | 16/52 buffered | seg 68 | rate 14 | 0.08571648597717285s latency | 1 buffers | 22.549681425094604s spent buffering \\n52 segments left\\nretrieved segment 69 at bitrate 14\\n236.9942843914032s | 214.4446017742157s played | 54 segments played | 15/51 buffered | seg 69 | rate 14 | 8.271634578704834s latency | 1 buffers | 22.549681425094604s spent buffering \\n51 segments left\\nretrieved segment 70 at bitrate 13\\n245.1430585384369s | 222.5933759212494s played | 56 segments played | 14/50 buffered | seg 70 | rate 13 | 8.148704767227173s latency | 1 buffers | 22.549681425094604s spent buffering \\n50 segments left\\nretrieved segment 71 at bitrate 12\\n251.75491499900818s | 229.20523238182068s played | 58 segments played | 13/49 buffered | seg 71 | rate 12 | 6.6118223667144775s latency | 1 buffers | 22.549681425094604s spent buffering \\n49 segments left\\nretrieved segment 72 at bitrate 11\\n251.7899935245514s | 229.2403109073639s played | 58 segments played | 14/48 buffered | seg 72 | rate 11 | 0.035050392150878906s latency | 1 buffers | 22.549681425094604s spent buffering \\n48 segments left\\nretrieved segment 73 at bitrate 12\\n251.82343649864197s | 229.27375411987305s played | 58 segments played | 15/47 buffered | seg 73 | rate 12 | 0.03342247009277344s latency | 1 buffers | 22.549681425094604s spent buffering \\n47 segments left\\nretrieved segment 74 at bitrate 13\\n251.88699650764465s | 229.33731389045715s played | 58 segments played | 16/46 buffered | seg 74 | rate 13 | 0.06353878974914551s latency | 1 buffers | 22.549681425094604s spent buffering \\n46 segments left\\nretrieved segment 75 at bitrate 14\\n251.95742630958557s | 229.4077434539795s played | 58 segments played | 17/45 buffered | seg 75 | rate 14 | 0.07040119171142578s latency | 1 buffers | 22.549681425094604s spent buffering \\n45 segments left\\nretrieved segment 76 at bitrate 14\\n261.42963695526123s | 238.8799545764923s played | 60 segments played | 16/44 buffered | seg 76 | rate 14 | 8.941612243652344s latency | 1 buffers | 22.549681425094604s spent buffering \\n44 segments left\\nretrieved segment 77 at bitrate 13\\n261.49378275871277s | 238.94410037994385s played | 60 segments played | 17/43 buffered | seg 77 | rate 13 | 0.06411337852478027s latency | 1 buffers | 22.549681425094604s spent buffering \\n43 segments left\\nretrieved segment 78 at bitrate 14\\n261.5689353942871s | 239.0192530155182s played | 60 segments played | 18/42 buffered | seg 78 | rate 14 | 0.07512760162353516s latency | 1 buffers | 22.549681425094604s spent buffering \\n42 segments left\\nretrieved segment 79 at bitrate 13\\n261.89212131500244s | 239.34243893623352s played | 60 segments played | 19/41 buffered | seg 79 | rate 13 | 0.07538270950317383s latency | 1 buffers | 22.549681425094604s spent buffering \\n41 segments left\\nretrieved segment 80 at bitrate 14\\n272.50069642066956s | 249.95101380348206s played | 63 segments played | 17/40 buffered | seg 80 | rate 14 | 10.608546257019043s latency | 1 buffers | 22.549681425094604s spent buffering \\n40 segments left\\nretrieved segment 81 at bitrate 10\\n272.53038716316223s | 249.98070454597473s played | 63 segments played | 18/39 buffered | seg 81 | rate 10 | 0.02962327003479004s latency | 1 buffers | 22.549681425094604s spent buffering \\n39 segments left\\nretrieved segment 82 at bitrate 11\\n277.9811849594116s | 255.43150234222412s played | 64 segments played | 18/38 buffered | seg 82 | rate 11 | 5.450774908065796s latency | 1 buffers | 22.549681425094604s spent buffering \\n38 segments left\\nretrieved segment 83 at bitrate 12\\n278.03359818458557s | 255.48391580581665s played | 64 segments played | 19/37 buffered | seg 83 | rate 12 | 0.05239295959472656s latency | 1 buffers | 22.549681425094604s spent buffering \\n37 segments left\\nretrieved segment 84 at bitrate 13\\n278.0905382633209s | 255.54085564613342s played | 64 segments played | 20/36 buffered | seg 84 | rate 13 | 0.05691933631896973s latency | 1 buffers | 22.549681425094604s spent buffering \\n36 segments left\\nretrieved segment 85 at bitrate 14\\n278.14103984832764s | 255.59135746955872s played | 64 segments played | 21/35 buffered | seg 85 | rate 14 | 0.05048227310180664s latency | 1 buffers | 22.549681425094604s spent buffering \\n35 segments left\\nretrieved segment 86 at bitrate 14\\n278.36964869499207s | 255.81996607780457s played | 64 segments played | 22/34 buffered | seg 86 | rate 14 | 0.07805061340332031s latency | 1 buffers | 22.549681425094604s spent buffering \\n34 segments left\\nretrieved segment 87 at bitrate 13\\n278.67446517944336s | 256.1247823238373s played | 65 segments played | 22/33 buffered | seg 87 | rate 13 | 0.07284116744995117s latency | 1 buffers | 22.549681425094604s spent buffering \\n33 segments left\\nretrieved segment 88 at bitrate 13\\n278.9080238342285s | 256.35834097862244s played | 65 segments played | 23/32 buffered | seg 88 | rate 13 | 0.07322573661804199s latency | 1 buffers | 22.549681425094604s spent buffering \\n32 segments left\\nretrieved segment 89 at bitrate 14\\n278.99803018569946s | 256.44834756851196s played | 65 segments played | 24/31 buffered | seg 89 | rate 14 | 0.08998608589172363s latency | 1 buffers | 22.549681425094604s spent buffering \\n31 segments left\\nretrieved segment 90 at bitrate 14\\n279.2384753227234s | 256.6887927055359s played | 65 segments played | 25/30 buffered | seg 90 | rate 14 | 0.09198689460754395s latency | 1 buffers | 22.549681425094604s spent buffering \\n30 segments left\\nretrieved segment 91 at bitrate 14\\n279.4586298465729s | 256.9089472293854s played | 65 segments played | 26/29 buffered | seg 91 | rate 14 | 0.07764029502868652s latency | 1 buffers | 22.549681425094604s spent buffering \\n29 segments left\\nretrieved segment 92 at bitrate 13\\n289.58476281166077s | 267.03508019447327s played | 67 segments played | 25/28 buffered | seg 92 | rate 13 | 9.8127601146698s latency | 1 buffers | 22.549681425094604s spent buffering \\n28 segments left\\nretrieved segment 93 at bitrate 12\\n289.63426756858826s | 267.08458495140076s played | 67 segments played | 26/27 buffered | seg 93 | rate 12 | 0.049474477767944336s latency | 1 buffers | 22.549681425094604s spent buffering \\n27 segments left\\nretrieved segment 94 at bitrate 13\\n289.6811728477478s | 267.1314902305603s played | 67 segments played | 27/26 buffered | seg 94 | rate 13 | 0.0468752384185791s latency | 1 buffers | 22.549681425094604s spent buffering \\n26 segments left\\nretrieved segment 95 at bitrate 14\\n289.76130390167236s | 267.21162152290344s played | 67 segments played | 28/25 buffered | seg 95 | rate 14 | 0.08011150360107422s latency | 1 buffers | 22.549681425094604s spent buffering \\n25 segments left\\nretrieved segment 96 at bitrate 15\\n289.83420395851135s | 267.2845211029053s played | 67 segments played | 29/24 buffered | seg 96 | rate 15 | 0.0728762149810791s latency | 1 buffers | 22.549681425094604s spent buffering \\n24 segments left\\nretrieved segment 97 at bitrate 16\\n289.87810230255127s | 267.32841968536377s played | 67 segments played | 30/23 buffered | seg 97 | rate 16 | 0.04387092590332031s latency | 1 buffers | 22.549681425094604s spent buffering \\n23 segments left\\nretrieved segment 98 at bitrate 17\\n289.949010848999s | 267.3993287086487s played | 67 segments played | 31/22 buffered | seg 98 | rate 17 | 0.07088947296142578s latency | 1 buffers | 22.549681425094604s spent buffering \\n22 segments left\\nretrieved segment 99 at bitrate 18\\n300.96900153160095s | 278.4193186759949s played | 70 segments played | 29/21 buffered | seg 99 | rate 18 | 11.019965171813965s latency | 1 buffers | 22.549681425094604s spent buffering \\n21 segments left\\nretrieved segment 100 at bitrate 14\\n301.0375626087189s | 278.48788022994995s played | 70 segments played | 30/20 buffered | seg 100 | rate 14 | 0.06853008270263672s latency | 1 buffers | 22.549681425094604s spent buffering \\n20 segments left\\nretrieved segment 101 at bitrate 15\\n301.0985324382782s | 278.5488500595093s played | 70 segments played | 31/19 buffered | seg 101 | rate 15 | 0.06094789505004883s latency | 1 buffers | 22.549681425094604s spent buffering \\n19 segments left\\nretrieved segment 102 at bitrate 16\\n301.1856153011322s | 278.6359329223633s played | 70 segments played | 32/18 buffered | seg 102 | rate 16 | 0.08706212043762207s latency | 1 buffers | 22.549681425094604s spent buffering \\n18 segments left\\nretrieved segment 103 at bitrate 15\\n312.9597053527832s | 290.4100224971771s played | 73 segments played | 30/17 buffered | seg 103 | rate 15 | 11.599457502365112s latency | 1 buffers | 22.549681425094604s spent buffering \\n17 segments left\\nretrieved segment 104 at bitrate 11\\n313.00077962875366s | 290.45109701156616s played | 73 segments played | 31/16 buffered | seg 104 | rate 11 | 0.04105043411254883s latency | 1 buffers | 22.549681425094604s spent buffering \\n16 segments left\\nretrieved segment 105 at bitrate 12\\n318.654657125473s | 296.10497426986694s played | 75 segments played | 30/15 buffered | seg 105 | rate 12 | 5.653828382492065s latency | 1 buffers | 22.549681425094604s spent buffering \\n15 segments left\\nretrieved segment 106 at bitrate 13\\n328.4875841140747s | 305.9379012584686s played | 77 segments played | 29/14 buffered | seg 106 | rate 13 | 9.832899570465088s latency | 1 buffers | 22.549681425094604s spent buffering \\n14 segments left\\nretrieved segment 107 at bitrate 14\\n340.19584226608276s | 317.64615964889526s played | 80 segments played | 27/13 buffered | seg 107 | rate 14 | 11.708229064941406s latency | 1 buffers | 22.549681425094604s spent buffering \\n13 segments left\\nretrieved segment 108 at bitrate 10\\n344.1479661464691s | 321.5982835292816s played | 81 segments played | 27/12 buffered | seg 108 | rate 10 | 3.9520959854125977s latency | 1 buffers | 22.549681425094604s spent buffering \\n12 segments left\\nretrieved segment 109 at bitrate 11\\n350.035649061203s | 327.4859662055969s played | 82 segments played | 27/11 buffered | seg 109 | rate 11 | 5.887659549713135s latency | 1 buffers | 22.549681425094604s spent buffering \\n11 segments left\\nretrieved segment 110 at bitrate 12\\n355.96839118003845s | 333.4187083244324s played | 84 segments played | 26/10 buffered | seg 110 | rate 12 | 5.93271017074585s latency | 1 buffers | 22.549681425094604s spent buffering \\n10 segments left\\nretrieved segment 111 at bitrate 13\\n362.61396622657776s | 340.06428360939026s played | 86 segments played | 25/9 buffered | seg 111 | rate 13 | 6.645546913146973s latency | 1 buffers | 22.549681425094604s spent buffering \\n9 segments left\\nretrieved segment 112 at bitrate 14\\n371.9665937423706s | 349.4169113636017s played | 88 segments played | 24/8 buffered | seg 112 | rate 14 | 9.35257887840271s latency | 1 buffers | 22.549681425094604s spent buffering \\n8 segments left\\nretrieved segment 113 at bitrate 15\\n379.91241455078125s | 357.36273193359375s played | 90 segments played | 23/7 buffered | seg 113 | rate 15 | 7.945783376693726s latency | 1 buffers | 22.549681425094604s spent buffering \\n7 segments left\\nretrieved segment 114 at bitrate 16\\n388.62502932548523s | 366.07534670829773s played | 92 segments played | 22/6 buffered | seg 114 | rate 16 | 8.712584495544434s latency | 1 buffers | 22.549681425094604s spent buffering \\n6 segments left\\nretrieved segment 115 at bitrate 14\\n388.94575548171997s | 366.39607310295105s played | 92 segments played | 23/5 buffered | seg 115 | rate 14 | 0.08632278442382812s latency | 1 buffers | 22.549681425094604s spent buffering \\n5 segments left\\nretrieved segment 116 at bitrate 15\\n389.01472997665405s | 366.465047121048s played | 92 segments played | 24/4 buffered | seg 116 | rate 15 | 0.06894445419311523s latency | 1 buffers | 22.549681425094604s spent buffering \\n4 segments left\\nretrieved segment 117 at bitrate 13\\n389.67019176483154s | 367.12050914764404s played | 92 segments played | 25/3 buffered | seg 117 | rate 13 | 0.06796884536743164s latency | 1 buffers | 22.549681425094604s spent buffering \\n3 segments left\\nretrieved segment 118 at bitrate 14\\n389.7537829875946s | 367.2041006088257s played | 92 segments played | 26/2 buffered | seg 118 | rate 14 | 0.08356928825378418s latency | 1 buffers | 22.549681425094604s spent buffering \\n2 segments left\\nretrieved segment 119 at bitrate 15\\n389.8269085884094s | 367.2772262096405s played | 92 segments played | 27/1 buffered | seg 119 | rate 15 | 0.0731041431427002s latency | 1 buffers | 22.549681425094604s spent buffering \\n1 segments left\\nretrieved segment 120 at bitrate 16\\n400.6352107524872s | 378.0855278968811s played | 95 segments played | 25/0 buffered | seg 120 | rate 16 | 10.808281183242798s latency | 1 buffers | 22.549681425094604s spent buffering \\n0 segments left\\n1\\n400.6352779865265\\n[0.001552581787109375, 10.955112218856812, 11.592944383621216, 0.031751155853271484, 4.261829376220703, 0.018697738647460938, 0.014912605285644531, 0.03252816200256348, 0.04435539245605469, 6.323284149169922, 0.042693376541137695, 7.163067817687988, 5.794298887252808, 0.03208422660827637, 5.873807191848755, 0.02289295196533203, 0.03213334083557129, 6.792439937591553, 0.0331571102142334, 0.04345989227294922, 9.927779197692871, 0.05050945281982422, 3.391324281692505, 7.440638303756714, 2.971895217895508, 6.141682147979736, 0.040015220642089844, 0.0680384635925293, 0.0646355152130127, 0.08330821990966797, 11.012042999267578, 0.030555248260498047, 0.03619885444641113, 0.04784989356994629, 8.067891836166382, 0.0537714958190918, 8.886985301971436, 0.041890621185302734, 6.849937200546265, 0.04698061943054199, 0.028203964233398438, 8.685697555541992, 0.04218769073486328, 8.265259265899658, 4.304701805114746, 0.08316707611083984, 8.458282947540283, 9.020553827285767, 0.029236316680908203, 0.06469488143920898, 0.06077218055725098, 10.086455345153809, 0.03485751152038574, 0.05301213264465332, 7.981796026229858, 0.04845404624938965, 4.2555766105651855, 8.783899545669556, 0.0453951358795166, 9.561823844909668, 4.853557586669922, 0.0451200008392334, 9.087502002716064, 0.04604506492614746, 0.058217525482177734, 9.311749458312988, 0.04564857482910156, 0.07462644577026367, 0.08571648597717285, 8.271634578704834, 8.148704767227173, 6.6118223667144775, 0.035050392150878906, 0.03342247009277344, 0.06353878974914551, 0.07040119171142578, 8.941612243652344, 0.06411337852478027, 0.07512760162353516, 0.07538270950317383, 10.608546257019043, 0.02962327003479004, 5.450774908065796, 0.05239295959472656, 0.05691933631896973, 0.05048227310180664, 0.07805061340332031, 0.07284116744995117, 0.07322573661804199, 0.08998608589172363, 0.09198689460754395, 0.07764029502868652, 9.8127601146698, 0.049474477767944336, 0.0468752384185791, 0.08011150360107422, 0.0728762149810791, 0.04387092590332031, 0.07088947296142578, 11.019965171813965, 0.06853008270263672, 0.06094789505004883, 0.08706212043762207, 11.599457502365112, 0.04105043411254883, 5.653828382492065, 9.832899570465088, 11.708229064941406, 3.9520959854125977, 5.887659549713135, 5.93271017074585, 6.645546913146973, 9.35257887840271, 7.945783376693726, 8.712584495544434, 0.08632278442382812, 0.06894445419311523, 0.06796884536743164, 0.08356928825378418, 0.0731041431427002, 10.808281183242798]\\n[19, 18, 14, 10, 10, 9, 9, 10, 11, 12, 11, 12, 11, 10, 11, 10, 11, 12, 11, 12, 13, 12, 13, 14, 13, 14, 13, 14, 15, 14, 14, 10, 11, 12, 13, 12, 13, 12, 13, 12, 13, 14, 13, 14, 13, 14, 14, 13, 12, 13, 14, 15, 11, 12, 13, 12, 13, 14, 13, 14, 13, 12, 13, 12, 13, 14, 13, 14, 14, 14, 13, 12, 11, 12, 13, 14, 14, 13, 14, 13, 14, 10, 11, 12, 13, 14, 14, 13, 13, 14, 14, 14, 13, 12, 13, 14, 15, 16, 17, 18, 14, 15, 16, 15, 11, 12, 13, 14, 10, 11, 12, 13, 14, 15, 16, 14, 15, 13, 14, 15, 16]\\n22.549681425094604\\n', '')\n"
     ]
    }
   ],
   "source": [
    "for i in range(num_consumers):\n",
    "    c = consumers[i]\n",
    "    print(c['future'].result())\n",
    "    sleep(1)\n",
    "    node = c['node']\n",
    "    node.download_file(f\"/home/fabric/work/NDNProject/ndnlogs/exp1_node{i}_latency{router_latency}_{num_consumers}consumers_{run_number}.csv\", f\"/home/ubuntu/ndnlogs/exp1_node{i}_latency{router_latency}_{num_consumers}consumers_{run_number}.csv\")"
   ]
  },
  {
   "cell_type": "code",
   "execution_count": 59,
   "id": "0bdae542-5ca8-4422-a552-faf3df4f7f46",
   "metadata": {
    "tags": []
   },
   "outputs": [
    {
     "name": "stdout",
     "output_type": "stream",
     "text": [
      "('', '')\n",
      "('', '')\n"
     ]
    }
   ],
   "source": [
    "sleep(1)\n",
    "res = routers[0]['node'].execute(f\"sudo tc qdisc del dev {producer['router_if_name']} root tbf rate {router_latency}kbit latency 50ms burst 1540\")\n",
    "print(res)\n",
    "res = routers[0]['node'].execute(f\"sudo tc qdisc add dev {producer['router_if_name']} root tbf rate {router_latency}kbit latency 50ms burst 1540\")\n",
    "print(res)\n",
    "for i in range(num_consumers):\n",
    "    c = consumers[i]\n",
    "    node = c['node']\n",
    "    c['future2'] = node.execute_thread(f\"sudo python2 ~/AStream/dist/client/dash_client.py -m http://192.168.0.2/media/BigBuckBunny/4sec/BigBuckBunny_4s.mpd -p 'basic' -n 120 -d \")\n",
    "    sleep(10)\n",
    "# sleep(500)\n"
   ]
  },
  {
   "cell_type": "code",
   "execution_count": 60,
   "id": "7592b3ca-054e-4047-a91d-f15f28421d64",
   "metadata": {
    "tags": []
   },
   "outputs": [
    {
     "name": "stdout",
     "output_type": "stream",
     "text": [
      "DASH_BUFFER_LOG_2022-12-03.20_15_15.csv\n"
     ]
    }
   ],
   "source": [
    "for i in range(num_consumers):\n",
    "    c = consumers[i]\n",
    "    (c['future2'].result())\n",
    "    sleep(1)\n",
    "    node = c['node']\n",
    "    res = node.execute(\"ls ./ASTREAM_LOGS\")\n",
    "    split = res[0].split('\\n')\n",
    "    file = ''\n",
    "    for s in split:\n",
    "        if s.find('.csv') != -1:\n",
    "            file = s\n",
    "            break \n",
    "    print(file)\n",
    "    # node.download_file(f\"/home/fabric/work/ndnlogs/astream_log_exp1_node{i}_latency{router_latency}_{num_consumers}consumers_{run_number}.json\", f\"/home/ubuntu/ASTREAM_LOGS/{split[0]}\")\n",
    "    node.download_file(f\"/home/fabric/work/NDNProject/ndnlogs/dash_buffer_log_exp1_node{i}_latency{router_latency}_{num_consumers}consumers_{run_number}.csv\", f\"/home/ubuntu/ASTREAM_LOGS/{file}\")\n",
    "    # node.download_file(f\"/home/fabric/work/ndnlogs/dash_runtime_log_exp1_node{i}_latency{router_latency}_{num_consumers}consumers_{run_number}.log\", f\"/home/ubuntu/ASTREAM_LOGS/{split[2]}\")\n"
   ]
  },
  {
   "cell_type": "code",
   "execution_count": 55,
   "id": "81a0139f-ec61-49ac-94f9-172ea1cadc9d",
   "metadata": {},
   "outputs": [],
   "source": [
    "#clear ndn caches and remove astream logs\n",
    "sleep(10)\n",
    "try:\n",
    "    for node in slice.get_nodes():\n",
    "        node.execute(\"nfdc cs erase /\")\n",
    "        node.execute(\"sudo rm ./ASTREAM_LOGS/*\")\n",
    "except Exception as e:\n",
    "    print(f\"Exception: {e}\")\n"
   ]
  },
  {
   "cell_type": "code",
   "execution_count": null,
   "id": "679453b7-1a12-42db-ae4d-bace4323a768",
   "metadata": {},
   "outputs": [],
   "source": [
    "client.execute(\"sudo tc qdisc add dev ens7 root tbf rate 10kbit latency 50ms burst 1540\")\n",
    "client.execute(\"sudo tc qdisc add dev ens7 root tbf rate 50kbit latency 50ms burst 1540\")\n",
    "client.execute(\"sudo tc qdisc add dev ens7 root tbf rate 100kbit latency 50ms burst 1540\")"
   ]
  }
 ],
 "metadata": {
  "kernelspec": {
   "display_name": "Python 3 (ipykernel)",
   "language": "python",
   "name": "python3"
  },
  "language_info": {
   "codemirror_mode": {
    "name": "ipython",
    "version": 3
   },
   "file_extension": ".py",
   "mimetype": "text/x-python",
   "name": "python",
   "nbconvert_exporter": "python",
   "pygments_lexer": "ipython3",
   "version": "3.9.7"
  }
 },
 "nbformat": 4,
 "nbformat_minor": 5
}
